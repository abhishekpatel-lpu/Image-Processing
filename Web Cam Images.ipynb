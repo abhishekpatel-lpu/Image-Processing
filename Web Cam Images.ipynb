{
 "cells": [
  {
   "cell_type": "code",
   "execution_count": 1,
   "id": "20980e22",
   "metadata": {},
   "outputs": [
    {
     "name": "stdout",
     "output_type": "stream",
     "text": [
      "(480, 640, 3)\n"
     ]
    }
   ],
   "source": [
    "#capturing the image through webcam\n",
    "\n",
    "import cv2\n",
    "image=cv2.VideoCapture(0)\n",
    "check,frame=image.read()\n",
    "\n",
    "cv2.imshow(\"Captured\",frame)\n",
    "\n",
    "cv2.waitKey()\n",
    "\n",
    "print(frame.shape)\n",
    "\n",
    "cv2.imwrite(\"Copied Image.jpg\",frame)\n",
    "\n",
    "image.release()\n",
    "cv2.destroyAllWindows()"
   ]
  },
  {
   "cell_type": "code",
   "execution_count": null,
   "id": "8670a343",
   "metadata": {},
   "outputs": [],
   "source": [
    "# Capturing image in continous manner untill q is press\n",
    "\n",
    "import cv2\n",
    "\n",
    "image=cv2.VideoCapture(0)\n",
    "count = 0\n",
    "\n",
    "while(True):\n",
    "    count+=1\n",
    "    check,frame=image.read()\n",
    "    \n",
    "    cv2.imshow(\"Image.jpg\",frame)\n",
    "    if cv2.waitKey()==ord(\"q\"):\n",
    "        break\n",
    "\n",
    "print(frame.shape)\n",
    "\n",
    "cv2.imwrite(\"Copied Image.jpg\"+str(count)+\".jpg\",frame)\n",
    "\n",
    "image.release()\n",
    "cv2.destroyAllWindows()"
   ]
  },
  {
   "cell_type": "code",
   "execution_count": 8,
   "id": "0b1d2248",
   "metadata": {},
   "outputs": [
    {
     "name": "stdout",
     "output_type": "stream",
     "text": [
      "(480, 640, 3)\n"
     ]
    }
   ],
   "source": [
    "# for Video capturing and converting into video \n",
    "\n",
    "import cv2\n",
    "image=cv2.VideoCapture(0)\n",
    "fourcc_code=cv2.VideoWriter_fourcc(*\"XVID\")\n",
    "video=cv2.VideoWriter(\"Captured_video.mp4\",fourcc_code,5.0,(640,480))\n",
    "\n",
    "while(True):\n",
    "    check,frame=image.read()\n",
    "    video.write(frame)\n",
    "    cv2.imshow(\"Image_Cpatured\",frame)\n",
    "    if cv2.waitKey(1)==ord(\"q\"):\n",
    "        break\n",
    "\n",
    "print(frame.shape)\n",
    "\n",
    "cv2.imwrite(\"Captured_Image.jpg\",frame)\n",
    "\n",
    "video.release()\n",
    "image.release()\n",
    "cv2.destroyAllWindows()\n",
    "\n"
   ]
  },
  {
   "cell_type": "code",
   "execution_count": 15,
   "id": "074514bb",
   "metadata": {},
   "outputs": [
    {
     "name": "stdout",
     "output_type": "stream",
     "text": [
      "(1080, 1920, 3)\n"
     ]
    }
   ],
   "source": [
    "# capture video with mobile phone camera\n",
    "# need app IP Webcam\n",
    "\n",
    "import cv2\n",
    "image=cv2.VideoCapture(\"http://10.9.241.85:8080/video\")\n",
    "fourcc_code=cv2.VideoWriter_fourcc(*\"XVID\")\n",
    "video=cv2.VideoWriter(\"Mobile_Captured_video.avi\",fourcc_code,5.0,(1920,1080))\n",
    "\n",
    "while(True):\n",
    "    check,frame=image.read()\n",
    "    video.write(frame)\n",
    "    cv2.imshow(\"Mobile_Cpatured\",frame)\n",
    "    if cv2.waitKey(1)==ord(\"q\"):\n",
    "        break\n",
    "\n",
    "print(frame.shape)\n",
    "\n",
    "cv2.imwrite(\"Mobile_Image.jpg\",frame)\n",
    "\n",
    "video.release()\n",
    "image.release()\n",
    "cv2.destroyAllWindows()\n"
   ]
  },
  {
   "cell_type": "code",
   "execution_count": 21,
   "id": "c9af6828",
   "metadata": {},
   "outputs": [
    {
     "name": "stdout",
     "output_type": "stream",
     "text": [
      "(1080, 1920)\n"
     ]
    }
   ],
   "source": [
    "# capture video with mobile phone camera with Gray Video\n",
    "# need app IP Webcam\n",
    "\n",
    "import cv2\n",
    "image=cv2.VideoCapture(\"http://10.9.241.85:8080/video\")\n",
    "fourcc_code=cv2.VideoWriter_fourcc(*\"XVID\")\n",
    "video=cv2.VideoWriter(\"GMobile_Captured_video.mp4\",fourcc_code,5.0,(1920,1080))\n",
    "\n",
    "while(True):\n",
    "    check,frame=image.read()\n",
    "    frame=cv2.cvtColor(frame,cv2.COLOR_BGR2GRAY)\n",
    "    video.write(frame)\n",
    "    cv2.imshow(\"GMobile_Cpatured\",frame)\n",
    "    if cv2.waitKey(1)==ord(\"q\"):\n",
    "        break\n",
    "\n",
    "print(frame.shape)\n",
    "\n",
    "cv2.imwrite(\"GMobile_Image.jpg\",frame)\n",
    "\n",
    "video.release()\n",
    "image.release()\n",
    "cv2.destroyAllWindows()"
   ]
  },
  {
   "cell_type": "code",
   "execution_count": null,
   "id": "6d4bc481",
   "metadata": {},
   "outputs": [],
   "source": []
  }
 ],
 "metadata": {
  "kernelspec": {
   "display_name": "Python 3",
   "language": "python",
   "name": "python3"
  },
  "language_info": {
   "codemirror_mode": {
    "name": "ipython",
    "version": 3
   },
   "file_extension": ".py",
   "mimetype": "text/x-python",
   "name": "python",
   "nbconvert_exporter": "python",
   "pygments_lexer": "ipython3",
   "version": "3.8.8"
  }
 },
 "nbformat": 4,
 "nbformat_minor": 5
}
