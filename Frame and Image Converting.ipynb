{
 "cells": [
  {
   "cell_type": "code",
   "execution_count": 1,
   "metadata": {},
   "outputs": [],
   "source": [
    "# open and playing the video \n",
    "\n",
    "import cv2\n",
    "\n",
    "cap=cv2.VideoCapture(\"C:\\\\Users\\\\Patel\\\\Downloads\\\\playment\\\\sample video.mp4\")\n",
    "while(cap.isOpened()):\n",
    "    result, frame = cap.read()\n",
    "    if result==True:\n",
    "        frame=cv2.resize(frame,(400,500))\n",
    "        cv2.imshow('VIDEO', frame)\n",
    "        if cv2.waitKey(1) & 0xFF==ord('q'):\n",
    "            break\n",
    "    else:\n",
    "        break\n",
    "            \n",
    "cap.release()\n",
    "cv2.destroyAllWindows()\n",
    "    \n",
    "    \n",
    "    "
   ]
  },
  {
   "cell_type": "code",
   "execution_count": null,
   "metadata": {},
   "outputs": [],
   "source": []
  },
  {
   "cell_type": "code",
   "execution_count": null,
   "metadata": {},
   "outputs": [],
   "source": [
    "#extracting the frames from the sample video\n",
    "\n",
    "import cv2\n",
    "import os\n",
    "\n",
    "vid=cv2.VideoCapture(\"C:\\\\Users\\\\Patel\\\\Downloads\\\\playment\\\\sample video.mp4\")\n",
    "if not os.path.exists('newdir'):\n",
    "    os.makedirs(\"newdir\")\n",
    "    \n",
    "    \n",
    "cf=0\n",
    "\n",
    "while(True):\n",
    "    success, frame = vid.read()\n",
    "    if success:\n",
    "        cv2.imshow(\"output\", frame)\n",
    "        cv2.imwrite(\"./newdir/frame\" + str(cf) + '.jpg',frame)\n",
    "        cf+=1\n",
    "    else:\n",
    "        break \n",
    "\n",
    "vid.release()\n",
    "cv2.destroyAllWindows()\n",
    "    \n",
    "    "
   ]
  },
  {
   "cell_type": "code",
   "execution_count": 28,
   "metadata": {},
   "outputs": [
    {
     "name": "stdout",
     "output_type": "stream",
     "text": [
      "Directory already exist, images will be written in same folder\n"
     ]
    }
   ],
   "source": [
    "#converting extracted frames into grayscale images\n",
    "\n",
    "import cv2\n",
    "\n",
    "import os,glob\n",
    "\n",
    "from os import listdir,makedirs\n",
    "\n",
    "from os.path import isfile,join\n",
    "path = 'C://Users//Patel//Downloads//playment//newdir' # Source Folder\n",
    "dstpath = 'C://Users//Patel//Downloads//playment//newdirgray' # Destination Folder\n",
    "try:\n",
    "    makedirs(dstpath)\n",
    "except:\n",
    "    print (\"Directory already exist, images will be written in same folder\")\n",
    "# Folder won't used\n",
    "files = list(filter(lambda f: isfile(join(path,f)), listdir(path)))\n",
    "for image in files:\n",
    "    try:\n",
    "        img = cv2.imread(os.path.join(path,image))\n",
    "        gray = cv2.cvtColor(img,cv2.COLOR_BGR2GRAY)\n",
    "        dstPath = join(dstpath,image)\n",
    "        cv2.imwrite(dstPath,gray)\n",
    "    except:\n",
    "        print (\"{} is not converted\".format(image))\n",
    "for fil in glob.glob(\"*.jpg\"):\n",
    "    try:\n",
    "        image = cv2.imread(fil) \n",
    "        gray_image = cv2.cvtColor(os.path.join(path,image), cv2.COLOR_BGR2GRAY) # convert to greyscale\n",
    "        cv2.imwrite(os.path.join(dstpath,fil),gray_image)\n",
    "    except:\n",
    "        print('{} is not converted')\n",
    "        "
   ]
  },
  {
   "cell_type": "code",
   "execution_count": 29,
   "metadata": {},
   "outputs": [],
   "source": [
    "# Resizing the extrated frame from the video\n",
    "\n",
    "inputFolder = 'C://Users//Patel//Downloads//playment//newdir'\n",
    "\n",
    "for img in glob.glob(inputFolder + \"/*.jpg\"):\n",
    "    image = cv2.imread(img)\n",
    "    h = image\n",
    "    imgResized = cv2.resize(image, (300, 400))\n",
    "    cv2.imwrite('Images_r/image.jpg'  , imgResized)"
   ]
  },
  {
   "cell_type": "code",
   "execution_count": null,
   "metadata": {},
   "outputs": [],
   "source": []
  }
 ],
 "metadata": {
  "kernelspec": {
   "display_name": "Python 3",
   "language": "python",
   "name": "python3"
  },
  "language_info": {
   "codemirror_mode": {
    "name": "ipython",
    "version": 3
   },
   "file_extension": ".py",
   "mimetype": "text/x-python",
   "name": "python",
   "nbconvert_exporter": "python",
   "pygments_lexer": "ipython3",
   "version": "3.8.5"
  }
 },
 "nbformat": 4,
 "nbformat_minor": 4
}
