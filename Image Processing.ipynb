{
 "cells": [
  {
   "cell_type": "markdown",
   "id": "2f8d781f",
   "metadata": {},
   "source": [
    "# Read and Display the Image"
   ]
  },
  {
   "cell_type": "code",
   "execution_count": 1,
   "id": "99b085f2",
   "metadata": {},
   "outputs": [],
   "source": [
    "import cv2"
   ]
  },
  {
   "cell_type": "code",
   "execution_count": 2,
   "id": "293c0c2b",
   "metadata": {},
   "outputs": [],
   "source": [
    "image=cv2.imread(\"1.jpg\")"
   ]
  },
  {
   "cell_type": "code",
   "execution_count": null,
   "id": "c65f9ddb",
   "metadata": {},
   "outputs": [],
   "source": [
    "#lena - variable can be named anything to be display on top of bar\n",
    "cv2.imshow(\"Lena\", image)\n",
    "cv2.waitKey()\n",
    "cv2.destroyAllWindows() "
   ]
  },
  {
   "cell_type": "code",
   "execution_count": 4,
   "id": "409cef79",
   "metadata": {},
   "outputs": [
    {
     "name": "stdout",
     "output_type": "stream",
     "text": [
      "(281, 300, 3)\n"
     ]
    }
   ],
   "source": [
    "print(image.shape)"
   ]
  },
  {
   "cell_type": "code",
   "execution_count": 5,
   "id": "ae15f37e",
   "metadata": {},
   "outputs": [
    {
     "data": {
      "text/plain": [
       "True"
      ]
     },
     "execution_count": 5,
     "metadata": {},
     "output_type": "execute_result"
    }
   ],
   "source": [
    "cv2.imwrite(\"1.1.jpg\",image)"
   ]
  },
  {
   "cell_type": "code",
   "execution_count": 6,
   "id": "241bcb91",
   "metadata": {},
   "outputs": [],
   "source": [
    "image=cv2.imread(\"./1.1.jpg\")\n",
    "cv2.imshow(\"Copied\",image)\n",
    "cv2.waitKey(5000)    # image is available for 5 sec only\n",
    "cv2.destroyAllWindows()\n"
   ]
  },
  {
   "cell_type": "code",
   "execution_count": 7,
   "id": "122b9d2c",
   "metadata": {},
   "outputs": [
    {
     "name": "stdout",
     "output_type": "stream",
     "text": [
      "(281, 300)\n"
     ]
    }
   ],
   "source": [
    "# changing thr color format of the image\n",
    "\n",
    "grey=cv2.cvtColor(image,cv2.COLOR_BGR2GRAY)\n",
    "cv2.imshow(\"Color\",grey)\n",
    "cv2.waitKey()\n",
    "cv2.destroyAllWindows()\n",
    "print(grey.shape)"
   ]
  },
  {
   "cell_type": "code",
   "execution_count": 8,
   "id": "67948950",
   "metadata": {},
   "outputs": [
    {
     "name": "stdout",
     "output_type": "stream",
     "text": [
      "(397, 312)\n"
     ]
    }
   ],
   "source": [
    "# Splitting the particuular image into Three diffrent channel RGB\n",
    "\n",
    "image=cv2.imread(\"2.jpg\")\n",
    "B, G, R = cv2.split(image)\n",
    "print(B.shape)\n",
    "cv2.imshow(\"Original Image\",image)\n",
    "cv2.imshow(\"Red Image\",R)\n",
    "cv2.imshow(\"Green Image\",G)\n",
    "cv2.imshow(\"Blue Image\",B)\n",
    "cv2.waitKey()\n",
    "cv2.destroyAllWindows()"
   ]
  },
  {
   "cell_type": "code",
   "execution_count": 10,
   "id": "f88acbec",
   "metadata": {},
   "outputs": [],
   "source": [
    "#merging the images \n",
    "# B+100 helps to identify the Blue color intensity in the image\n",
    "\n",
    "import cv2\n",
    "image=cv2.imread(\"22.jpg\")\n",
    "B, G, R = cv2.split(image)\n",
    "merge=cv2.merge([B,G,R+50])\n",
    "cv2.imshow(\"merged Image\",merge)\n",
    "cv2.waitKey()\n",
    "cv2.destroyAllWindows()"
   ]
  },
  {
   "cell_type": "code",
   "execution_count": null,
   "id": "e94f3929",
   "metadata": {},
   "outputs": [],
   "source": []
  }
 ],
 "metadata": {
  "kernelspec": {
   "display_name": "Python 3",
   "language": "python",
   "name": "python3"
  },
  "language_info": {
   "codemirror_mode": {
    "name": "ipython",
    "version": 3
   },
   "file_extension": ".py",
   "mimetype": "text/x-python",
   "name": "python",
   "nbconvert_exporter": "python",
   "pygments_lexer": "ipython3",
   "version": "3.8.8"
  }
 },
 "nbformat": 4,
 "nbformat_minor": 5
}
