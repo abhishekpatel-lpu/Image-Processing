{
 "cells": [
  {
   "cell_type": "code",
   "execution_count": 16,
   "id": "53e90059",
   "metadata": {},
   "outputs": [],
   "source": [
    "# Edge Detection in Image Processing\n",
    "\n",
    "import cv2\n",
    "import numpy as np\n",
    "\n",
    "\n",
    "image1=cv2.imread(\"11.jpg\")\n",
    "\n",
    "#Using Canny Method\n",
    "#first source image, second threshold 2 value\n",
    "image2=cv2.Canny(image1,10,100)\n",
    "\n",
    "cv2.imshow(\"Original\",image1)\n",
    "cv2.imshow(\"Canny\",image2)\n",
    "cv2.waitKey()\n",
    "cv2.destroyAllWindows()\n",
    "\n"
   ]
  },
  {
   "cell_type": "code",
   "execution_count": 22,
   "id": "2e107a4c",
   "metadata": {},
   "outputs": [],
   "source": [
    "# Image Pyramid\n",
    "\n",
    "image1=cv2.imread(\"1.jpg\")\n",
    "\n",
    "image2=cv2.pyrDown(image1)\n",
    "image3=cv2.pyrDown(image1)\n",
    "\n",
    "\n",
    "image4=cv2.pyrUp(image1)\n",
    "\n",
    "\n",
    "\n",
    "cv2.imshow(\"Original\",image1)\n",
    "cv2.imshow(\"PYR-DOWN\",image2)\n",
    "cv2.imshow(str(image1.shape),image3)\n",
    "cv2.imshow(\"PYR-UP\",image4)\n",
    "cv2.waitKey()\n",
    "cv2.destroyAllWindows()"
   ]
  },
  {
   "cell_type": "code",
   "execution_count": 33,
   "id": "e9dff0a8",
   "metadata": {},
   "outputs": [],
   "source": [
    "# Image Pyramid\n",
    "\n",
    "import cv2\n",
    "import numpy as np\n",
    "\n",
    "\n",
    "def gaussian(image1):\n",
    "    gp=[image1]\n",
    "    for i in range(6):\n",
    "        image1=cv2.pyrDown(image1)\n",
    "        gp.append(image1)\n",
    "        cv2.imshow(str(i),gp[i])\n",
    "    return gp\n",
    "\n",
    "def laplacian(image1):\n",
    "    gp=[image1]\n",
    "    for i in range(6):\n",
    "        image1=cv2.pyrDown(image1)\n",
    "        gp.append(image1)\n",
    "    lp=[[gp[5]]]\n",
    "    for i in range(5,0,-1):\n",
    "        gauss_expand=cv2.pyrUp(gp[i])\n",
    "        lap=cv2.subtract(gp[i-1],gauss_expand)\n",
    "        lp.append(lap)\n",
    "        cv2.imshow(str(i),lp[i])\n",
    "        \n",
    "    return gp\n",
    "\n",
    "\n",
    "\n",
    "image1=cv2.imread(\"1.jpg\")\n",
    "gaussian(image1)\n",
    "\n",
    "\n",
    "cv2.imshow(\"Original\",image1)\n",
    "\n",
    "cv2.waitKey()\n",
    "cv2.destroyAllWindows()"
   ]
  },
  {
   "cell_type": "code",
   "execution_count": null,
   "id": "61c0b50d",
   "metadata": {},
   "outputs": [],
   "source": []
  },
  {
   "cell_type": "code",
   "execution_count": null,
   "id": "684c9996",
   "metadata": {},
   "outputs": [],
   "source": []
  }
 ],
 "metadata": {
  "kernelspec": {
   "display_name": "Python 3",
   "language": "python",
   "name": "python3"
  },
  "language_info": {
   "codemirror_mode": {
    "name": "ipython",
    "version": 3
   },
   "file_extension": ".py",
   "mimetype": "text/x-python",
   "name": "python",
   "nbconvert_exporter": "python",
   "pygments_lexer": "ipython3",
   "version": "3.8.8"
  }
 },
 "nbformat": 4,
 "nbformat_minor": 5
}
