{
 "cells": [
  {
   "cell_type": "code",
   "execution_count": 3,
   "id": "1d0b6dd6",
   "metadata": {},
   "outputs": [
    {
     "name": "stdout",
     "output_type": "stream",
     "text": [
      "(270, 287, 3)\n"
     ]
    }
   ],
   "source": [
    "import numpy as np\n",
    "import cv2\n",
    "\n",
    "img1=np.zeros((512,512,3),np.uint8)\n",
    "\n",
    "img=cv2.imread(\"28.jpg\")\n",
    "print(img.shape)\n",
    "\n",
    "cv2.imshow(\"shape\",img)\n",
    "cv2.imshow(\"shape\",img1)\n",
    "cv2.waitKey()\n",
    "cv2.destroyAllWindows()\n"
   ]
  },
  {
   "cell_type": "code",
   "execution_count": 20,
   "id": "746eabe1",
   "metadata": {},
   "outputs": [
    {
     "name": "stdout",
     "output_type": "stream",
     "text": [
      "(270, 287, 3)\n"
     ]
    }
   ],
   "source": [
    "import numpy as np\n",
    "import cv2\n",
    "\n",
    "img1=np.zeros((512,512,3),np.uint8)\n",
    "\n",
    "img=cv2.imread(\"28.jpg\")\n",
    "print(img.shape)\n",
    "\n",
    "\n",
    "#first image, second cordinates (starting and ending point) third is color in tuple form and fourth is thickness\n",
    "\n",
    "cv2.line(img,(10,10),(100,100),(56,255,100),5)\n",
    "cv2.line(img1,(10,10),(100,100),(56,255,100),5)\n",
    "\n",
    "cv2.imshow(\"shape\",img)\n",
    "cv2.imshow(\"Image 1\", img1)\n",
    "cv2.waitKey()\n",
    "cv2.destroyAllWindows()"
   ]
  },
  {
   "cell_type": "code",
   "execution_count": 10,
   "id": "001a8c50",
   "metadata": {},
   "outputs": [
    {
     "name": "stdout",
     "output_type": "stream",
     "text": [
      "(270, 287, 3)\n"
     ]
    }
   ],
   "source": [
    "import numpy as np\n",
    "import cv2\n",
    "\n",
    "img1=np.zeros((512,512,3),np.uint8)\n",
    "\n",
    "img=cv2.imread(\"28.jpg\")\n",
    "print(img.shape)\n",
    "\n",
    "cv2.line(img,(10,10),(300,300),(56,255,100),5)\n",
    "cv2.line(img1,(10,10),(255,255),(56,255,100),5)\n",
    "\n",
    "#first image, second cordinates (starting and ending point) third is color in tuple form and fourth is thickness\n",
    "cv2.arrowedLine(img,(10,10),(255,255),(56,255,100),5)\n",
    "cv2.arrowedLine(img1,(10,10),(255,255),(56,255,100),5)\n",
    "\n",
    "\n",
    "cv2.imshow(\"shape\",img)\n",
    "cv2.imshow(\"Image 1\", img1)\n",
    "cv2.waitKey()\n",
    "cv2.destroyAllWindows()"
   ]
  },
  {
   "cell_type": "code",
   "execution_count": 21,
   "id": "e61b6c9b",
   "metadata": {},
   "outputs": [
    {
     "name": "stdout",
     "output_type": "stream",
     "text": [
      "(270, 287, 3)\n"
     ]
    }
   ],
   "source": [
    "#drwaing rectangle in the image\n",
    "\n",
    "import numpy as np\n",
    "import cv2\n",
    "\n",
    "img1=np.zeros((512,512,3),np.uint8)\n",
    "\n",
    "img=cv2.imread(\"28.jpg\")\n",
    "print(img.shape)\n",
    "\n",
    "cv2.line(img,(50,20),(300,300),(56,255,100),5)\n",
    "cv2.line(img1,(50,20),(300,300),(56,255,100),5)\n",
    "\n",
    "\n",
    "cv2.arrowedLine(img,(10,10),(255,255),(56,255,100),5)\n",
    "cv2.arrowedLine(img1,(10,10),(255,255),(56,255,100),5)\n",
    "\n",
    "\n",
    "# first image, second two diagonal point(upper left and lower right point), third is color, fourth is thickness\n",
    "\n",
    "cv2.rectangle(img,(100,20),(200,100),(0,255,0),5)\n",
    "cv2.rectangle(img1,(100,20),(200,100),(0,255,0),5)\n",
    "\n",
    "\n",
    "cv2.imshow(\"shape\",img)\n",
    "cv2.imshow(\"Image 1\", img1)\n",
    "cv2.waitKey()\n",
    "cv2.destroyAllWindows()"
   ]
  },
  {
   "cell_type": "code",
   "execution_count": 14,
   "id": "1665886a",
   "metadata": {},
   "outputs": [
    {
     "name": "stdout",
     "output_type": "stream",
     "text": [
      "(270, 287, 3)\n"
     ]
    }
   ],
   "source": [
    "import numpy as np\n",
    "import cv2\n",
    "\n",
    "img1=np.zeros((512,512,3),np.uint8)\n",
    "\n",
    "img=cv2.imread(\"28.jpg\")\n",
    "print(img.shape)\n",
    "\n",
    "cv2.line(img,(50,20),(300,300),(56,255,100),5)\n",
    "cv2.line(img1,(50,20),(300,300),(56,255,100),5)\n",
    "\n",
    "# for drawing the arraow in the image\n",
    "cv2.arrowedLine(img,(10,10),(255,255),(56,255,100),5)\n",
    "cv2.arrowedLine(img1,(10,10),(255,255),(56,255,100),5)\n",
    "\n",
    "#for drawing the rectangle in the image\n",
    "#diagonal point (upper left and lower)\n",
    "cv2.rectangle(img,(100,20),(200,100),(0,255,0),5)\n",
    "cv2.rectangle(img1,(100,20),(200,100),(0,255,0),5)\n",
    "\n",
    "\n",
    "#for drawing the circle \n",
    "# 5 is for thickness\n",
    "cv2.circle(img,(255,255),100,(255,0,0),5)\n",
    "cv2.circle(img1,(255,255),100,(255,0,0),5)\n",
    "\n",
    "\n",
    "cv2.imshow(\"shape\",img)\n",
    "cv2.imshow(\"Image 1\", img1)\n",
    "cv2.waitKey()\n",
    "cv2.destroyAllWindows()"
   ]
  },
  {
   "cell_type": "code",
   "execution_count": 15,
   "id": "992a1456",
   "metadata": {},
   "outputs": [
    {
     "name": "stdout",
     "output_type": "stream",
     "text": [
      "(270, 287, 3)\n"
     ]
    }
   ],
   "source": [
    "# for drawing the circle\n",
    "\n",
    "\n",
    "import numpy as np\n",
    "import cv2\n",
    "\n",
    "img1=np.zeros((512,512,3),np.uint8)\n",
    "\n",
    "img=cv2.imread(\"28.jpg\")\n",
    "print(img.shape)\n",
    "\n",
    "cv2.line(img,(50,20),(300,300),(56,255,100),5)\n",
    "cv2.line(img1,(50,20),(300,300),(56,255,100),5)\n",
    "\n",
    "cv2.arrowedLine(img,(10,10),(255,255),(56,255,100),5)\n",
    "cv2.arrowedLine(img1,(10,10),(255,255),(56,255,100),5)\n",
    "\n",
    "cv2.rectangle(img,(100,20),(200,100),(0,255,0),5)\n",
    "cv2.rectangle(img1,(100,20),(200,100),(0,255,0),5)\n",
    "\n",
    "\n",
    "#first image, second position, third radius, fourth color, fifth thickness\n",
    "# -1 is for thickness for negative\n",
    "\n",
    "cv2.circle(img,(255,255),100,(255,0,0),-1)\n",
    "cv2.circle(img1,(255,255),100,(255,0,0),-1)\n",
    "\n",
    "\n",
    "cv2.imshow(\"shape\",img)\n",
    "cv2.imshow(\"Image 1\", img1)\n",
    "cv2.waitKey()\n",
    "cv2.destroyAllWindows()"
   ]
  },
  {
   "cell_type": "code",
   "execution_count": 22,
   "id": "9c2d817a",
   "metadata": {},
   "outputs": [
    {
     "name": "stdout",
     "output_type": "stream",
     "text": [
      "(346, 500, 3)\n"
     ]
    }
   ],
   "source": [
    "# for putting the text in the image\n",
    "\n",
    "import numpy as np\n",
    "import cv2\n",
    "\n",
    "img1=np.zeros((512,512,3),np.uint8)\n",
    "\n",
    "img=cv2.imread(\"22.jpg\")\n",
    "print(img.shape)\n",
    "\n",
    "\n",
    "# first image, second text, third starting point of text, fourth font type(used font_hershey method)\n",
    "# fifth size of font, sixth color, seventh thickness\n",
    "\n",
    "cv2.putText(img,\"Shapes\",(200,200),cv2.FONT_HERSHEY_SIMPLEX,3,(0,0,255),5)\n",
    "cv2.putText(img1,\"Image\",(200,200),cv2.FONT_HERSHEY_SIMPLEX,3,(0,0,255),5)\n",
    "\n",
    "cv2.imshow(\"shape\",img)\n",
    "cv2.imshow(\"Image\",img1)\n",
    "cv2.waitKey()\n",
    "cv2.destroyAllWindows()"
   ]
  },
  {
   "cell_type": "code",
   "execution_count": null,
   "id": "b3a41bc9",
   "metadata": {},
   "outputs": [],
   "source": [
    "# polygon can also be drawn by using such method\n"
   ]
  }
 ],
 "metadata": {
  "kernelspec": {
   "display_name": "Python 3",
   "language": "python",
   "name": "python3"
  },
  "language_info": {
   "codemirror_mode": {
    "name": "ipython",
    "version": 3
   },
   "file_extension": ".py",
   "mimetype": "text/x-python",
   "name": "python",
   "nbconvert_exporter": "python",
   "pygments_lexer": "ipython3",
   "version": "3.8.8"
  }
 },
 "nbformat": 4,
 "nbformat_minor": 5
}
